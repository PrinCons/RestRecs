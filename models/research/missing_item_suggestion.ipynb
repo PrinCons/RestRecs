{
 "cells": [
  {
   "cell_type": "code",
   "execution_count": null,
   "id": "initial_id",
   "metadata": {
    "collapsed": true
   },
   "outputs": [],
   "source": [
    ""
   ]
  },
  {
   "metadata": {},
   "cell_type": "code",
   "outputs": [],
   "execution_count": null,
   "source": "",
   "id": "953bb9077c2b142e"
  },
  {
   "metadata": {},
   "cell_type": "code",
   "outputs": [],
   "execution_count": null,
   "source": [
    "## context: there are cases where there are items listed from the menu, but no cuisine mentioned. \n",
    "full_combo[\"cuisine with no items\"].value_counts()"
   ],
   "id": "e171e696e6e2dc17"
  },
  {
   "metadata": {},
   "cell_type": "markdown",
   "source": [
    "#### suggesting missing items\n",
    "some rows have a cuisine, but don't have an item list. the goal of this section is to predict what items may be present in a restaurant based on its listed cuisine style. "
   ],
   "id": "6908aa9509b38f0b"
  },
  {
   "metadata": {},
   "cell_type": "code",
   "outputs": [],
   "execution_count": null,
   "source": "",
   "id": "f857f8d899123ef"
  }
 ],
 "metadata": {
  "kernelspec": {
   "display_name": "Python 3",
   "language": "python",
   "name": "python3"
  },
  "language_info": {
   "codemirror_mode": {
    "name": "ipython",
    "version": 2
   },
   "file_extension": ".py",
   "mimetype": "text/x-python",
   "name": "python",
   "nbconvert_exporter": "python",
   "pygments_lexer": "ipython2",
   "version": "2.7.6"
  }
 },
 "nbformat": 4,
 "nbformat_minor": 5
}
