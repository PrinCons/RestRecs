{
 "cells": [
  {
   "cell_type": "code",
   "execution_count": null,
   "id": "initial_id",
   "metadata": {
    "collapsed": true
   },
   "outputs": [],
   "source": "import pandas as pd"
  },
  {
   "metadata": {},
   "cell_type": "code",
   "outputs": [],
   "execution_count": null,
   "source": "",
   "id": "b0c1ab1a3b763bc7"
  },
  {
   "metadata": {},
   "cell_type": "markdown",
   "source": "#### preparing menu items for modeling \n",
   "id": "da3c9f6c8438768"
  },
  {
   "metadata": {},
   "cell_type": "code",
   "outputs": [],
   "execution_count": null,
   "source": [
    "def clean_items_in_list(l, menu_stop_words = [], lemmatize=True):\n",
    "    # ensures menu item lists are ready for processing: removes stop words, punctuation, digits etc. \n",
    "    stemmer = PorterStemmer()\n",
    "    stop_words = list(ENGLISH_STOP_WORDS) + menu_stop_words\n",
    "    if isinstance(l, list):\n",
    "        clean_l = []\n",
    "        for item in l:\n",
    "            if isinstance(item, str):\n",
    "                clean_item = \"\".join([c.lower() for c in item if c.isascii() or c == \" \"])\n",
    "                clean_item = \"\".join([c for c in clean_item if not c.isdigit()])\n",
    "                clean_item = \" \".join([c.split(\".\")[-1] for c in clean_item.split() if c not in stop_words])\n",
    "                clean_item = \"\".join([c.lower() for c in clean_item if c not in string.punctuation])\n",
    "                clean_item = \" \".join([c.strip() for c in clean_item.split()])\n",
    "                if lemmatize:\n",
    "                    clean_item = \" \".join([stemmer.stem(c) for c in clean_item.split()])\n",
    "                if clean_item != \"\" and clean_item != \" \":\n",
    "                    clean_l.append(clean_item)\n",
    "        return clean_l\n",
    "    else:\n",
    "        return l"
   ],
   "id": "8277ba3f64607084"
  },
  {
   "metadata": {},
   "cell_type": "code",
   "outputs": [],
   "execution_count": null,
   "source": "full_combo[\"Items Processed\"] = full_combo[\"Items\"].apply(clean_items_in_list)",
   "id": "a67a8fe0f7eb4109"
  }
 ],
 "metadata": {
  "kernelspec": {
   "display_name": "Python 3",
   "language": "python",
   "name": "python3"
  },
  "language_info": {
   "codemirror_mode": {
    "name": "ipython",
    "version": 2
   },
   "file_extension": ".py",
   "mimetype": "text/x-python",
   "name": "python",
   "nbconvert_exporter": "python",
   "pygments_lexer": "ipython2",
   "version": "2.7.6"
  }
 },
 "nbformat": 4,
 "nbformat_minor": 5
}
