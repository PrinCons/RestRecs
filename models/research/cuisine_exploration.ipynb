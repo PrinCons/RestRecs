{
 "cells": [
  {
   "metadata": {},
   "cell_type": "markdown",
   "source": [
    "Cuisine Exploration Notebook \n",
    "The goal of this notebook is to look into the cuisine types listed - each restaurant has a list of cuisines associated with it. The aim is to answer these questions: \n",
    "1. what are these cuisines?\n",
    "2. how can they be used as categories? - this will be helpful both for more accurate recommendations, and for better Ml results in the next step (providing a best-guess of the items on the menu based on the cuisine type)    \n"
   ],
   "id": "e7854e6e777e3bba"
  },
  {
   "cell_type": "code",
   "id": "initial_id",
   "metadata": {
    "collapsed": true,
    "ExecuteTime": {
     "end_time": "2025-02-24T16:43:06.949550Z",
     "start_time": "2025-02-24T16:43:06.363689Z"
    }
   },
   "source": [
    "import pandas as pd\n",
    "import numpy as np\n",
    "from IPython.core.pylabtools import figsize\n",
    "from sklearn.feature_extraction.text import TfidfVectorizer\n",
    "from sklearn.model_selection import train_test_split\n",
    "from sklearn.linear_model import LogisticRegression\n",
    "from gensim.models import Word2Vec\n",
    "from matplotlib import pyplot as plt\n",
    "import seaborn as sns"
   ],
   "outputs": [],
   "execution_count": 1
  },
  {
   "metadata": {
    "ExecuteTime": {
     "end_time": "2025-02-24T16:43:07.035518Z",
     "start_time": "2025-02-24T16:43:06.954824Z"
    }
   },
   "cell_type": "code",
   "source": [
    "full_combo = pd.read_csv(\"full_combo.csv\")\n",
    "full_combo[\"ZipCode\"].astype(int)\n",
    "list_columns = [\"Popular Foods\", \"Items\", \"Cuisine\"]\n",
    "for column in list_columns:\n",
    "    full_combo[column] = full_combo[column].apply(lambda s: s.split(\", \") if isinstance(s, str) else s)\n",
    "full_combo.drop_duplicates([\"Name\", \"ZipCode\"], inplace=True)\n",
    "full_combo"
   ],
   "id": "778a1c5fb8bf9a65",
   "outputs": [
    {
     "data": {
      "text/plain": [
       "                             Name  ZipCode  Rating  Price Category  \\\n",
       "0                             218    10013     4.2             1.0   \n",
       "1                 251 Ginza Sushi    10016     NaN             NaN   \n",
       "2               3 Guys Restaurant    10021     NaN             NaN   \n",
       "3    4 Caminos Mexican Restaurant    11385     4.1             2.0   \n",
       "4         5 Brothers Gourmet Deli    10036     NaN             NaN   \n",
       "..                            ...      ...     ...             ...   \n",
       "799              ilili Restaurant    10001     4.5             3.0   \n",
       "800    taïm mediterranean kitchen    10038     4.3             1.0   \n",
       "801                          არგო    11223     4.6             2.0   \n",
       "802                         უბანი    11209     4.7             2.0   \n",
       "803                      ჩიზბოუთი    11249     4.3             2.0   \n",
       "\n",
       "                     Review Comment Popular Foods  \\\n",
       "0                               NaN           NaN   \n",
       "1                               NaN           NaN   \n",
       "2    “Quick lunch and good service”           NaN   \n",
       "3                               NaN           NaN   \n",
       "4                               NaN           NaN   \n",
       "..                              ...           ...   \n",
       "799                             NaN           NaN   \n",
       "800                             NaN           NaN   \n",
       "801                             NaN           NaN   \n",
       "802                             NaN           NaN   \n",
       "803                             NaN           NaN   \n",
       "\n",
       "                                                 Items Inspection Date  \\\n",
       "0                                                  NaN             NaN   \n",
       "1    [soda, spring water and soda, snapple ice tea,...             NaN   \n",
       "2    [cold cereal, cold cereal with banana, hot oat...             NaN   \n",
       "3                                                  NaN             NaN   \n",
       "4    [fresh homemade beef brisket sandwich, fresh t...             NaN   \n",
       "..                                                 ...             ...   \n",
       "799  [lunch prix fixe special, falafel wrap, grille...             NaN   \n",
       "800                                                NaN             NaN   \n",
       "801                                                NaN             NaN   \n",
       "802                                                NaN             NaN   \n",
       "803                                                NaN             NaN   \n",
       "\n",
       "    Inspection Grade Inspection Critical  \\\n",
       "0                NaN                 NaN   \n",
       "1                NaN                 NaN   \n",
       "2                NaN                 NaN   \n",
       "3                NaN                 NaN   \n",
       "4                NaN                 NaN   \n",
       "..               ...                 ...   \n",
       "799              NaN                 NaN   \n",
       "800              NaN                 NaN   \n",
       "801              NaN                 NaN   \n",
       "802              NaN                 NaN   \n",
       "803              NaN                 NaN   \n",
       "\n",
       "                                        Cuisine  \\\n",
       "0                                           NaN   \n",
       "1                             [japanese, sushi]   \n",
       "2             [cafe, japanese, american, diner]   \n",
       "3                                           NaN   \n",
       "4    [sandwiches, deli food, american, burgers]   \n",
       "..                                          ...   \n",
       "799      [middle eastern, mediterranean, tapas]   \n",
       "800                                         NaN   \n",
       "801                                         NaN   \n",
       "802                                         NaN   \n",
       "803                                         NaN   \n",
       "\n",
       "                                    Address  grade and rating  \\\n",
       "0             218 Grand St, New York, 10013             False   \n",
       "1            251 E 35th St, New York, 10016             False   \n",
       "2          960 Madison Ave, New York, 10021             False   \n",
       "3        67-22 Fresh Pond Rd, Queens, 11385             False   \n",
       "4             689 10th Ave, New York, 10036             False   \n",
       "..                                      ...               ...   \n",
       "799            236 5th Ave, New York, 10001             False   \n",
       "800           75 Maiden Ln, New York, 10038             False   \n",
       "801  1985 Coney Island Ave, Brooklyn, 11223             False   \n",
       "802   Georgian Cuisine, 8309 3rd Ave, 11209             False   \n",
       "803            80 Berry St, Brooklyn, 11249             False   \n",
       "\n",
       "     items with no cuisine  cuisine with no items  \n",
       "0                    False                  False  \n",
       "1                    False                  False  \n",
       "2                    False                  False  \n",
       "3                    False                  False  \n",
       "4                    False                  False  \n",
       "..                     ...                    ...  \n",
       "799                  False                  False  \n",
       "800                  False                  False  \n",
       "801                  False                  False  \n",
       "802                  False                  False  \n",
       "803                  False                  False  \n",
       "\n",
       "[792 rows x 15 columns]"
      ],
      "text/html": [
       "<div>\n",
       "<style scoped>\n",
       "    .dataframe tbody tr th:only-of-type {\n",
       "        vertical-align: middle;\n",
       "    }\n",
       "\n",
       "    .dataframe tbody tr th {\n",
       "        vertical-align: top;\n",
       "    }\n",
       "\n",
       "    .dataframe thead th {\n",
       "        text-align: right;\n",
       "    }\n",
       "</style>\n",
       "<table border=\"1\" class=\"dataframe\">\n",
       "  <thead>\n",
       "    <tr style=\"text-align: right;\">\n",
       "      <th></th>\n",
       "      <th>Name</th>\n",
       "      <th>ZipCode</th>\n",
       "      <th>Rating</th>\n",
       "      <th>Price Category</th>\n",
       "      <th>Review Comment</th>\n",
       "      <th>Popular Foods</th>\n",
       "      <th>Items</th>\n",
       "      <th>Inspection Date</th>\n",
       "      <th>Inspection Grade</th>\n",
       "      <th>Inspection Critical</th>\n",
       "      <th>Cuisine</th>\n",
       "      <th>Address</th>\n",
       "      <th>grade and rating</th>\n",
       "      <th>items with no cuisine</th>\n",
       "      <th>cuisine with no items</th>\n",
       "    </tr>\n",
       "  </thead>\n",
       "  <tbody>\n",
       "    <tr>\n",
       "      <th>0</th>\n",
       "      <td>218</td>\n",
       "      <td>10013</td>\n",
       "      <td>4.2</td>\n",
       "      <td>1.0</td>\n",
       "      <td>NaN</td>\n",
       "      <td>NaN</td>\n",
       "      <td>NaN</td>\n",
       "      <td>NaN</td>\n",
       "      <td>NaN</td>\n",
       "      <td>NaN</td>\n",
       "      <td>NaN</td>\n",
       "      <td>218 Grand St, New York, 10013</td>\n",
       "      <td>False</td>\n",
       "      <td>False</td>\n",
       "      <td>False</td>\n",
       "    </tr>\n",
       "    <tr>\n",
       "      <th>1</th>\n",
       "      <td>251 Ginza Sushi</td>\n",
       "      <td>10016</td>\n",
       "      <td>NaN</td>\n",
       "      <td>NaN</td>\n",
       "      <td>NaN</td>\n",
       "      <td>NaN</td>\n",
       "      <td>[soda, spring water and soda, snapple ice tea,...</td>\n",
       "      <td>NaN</td>\n",
       "      <td>NaN</td>\n",
       "      <td>NaN</td>\n",
       "      <td>[japanese, sushi]</td>\n",
       "      <td>251 E 35th St, New York, 10016</td>\n",
       "      <td>False</td>\n",
       "      <td>False</td>\n",
       "      <td>False</td>\n",
       "    </tr>\n",
       "    <tr>\n",
       "      <th>2</th>\n",
       "      <td>3 Guys Restaurant</td>\n",
       "      <td>10021</td>\n",
       "      <td>NaN</td>\n",
       "      <td>NaN</td>\n",
       "      <td>“Quick lunch and good service”</td>\n",
       "      <td>NaN</td>\n",
       "      <td>[cold cereal, cold cereal with banana, hot oat...</td>\n",
       "      <td>NaN</td>\n",
       "      <td>NaN</td>\n",
       "      <td>NaN</td>\n",
       "      <td>[cafe, japanese, american, diner]</td>\n",
       "      <td>960 Madison Ave, New York, 10021</td>\n",
       "      <td>False</td>\n",
       "      <td>False</td>\n",
       "      <td>False</td>\n",
       "    </tr>\n",
       "    <tr>\n",
       "      <th>3</th>\n",
       "      <td>4 Caminos Mexican Restaurant</td>\n",
       "      <td>11385</td>\n",
       "      <td>4.1</td>\n",
       "      <td>2.0</td>\n",
       "      <td>NaN</td>\n",
       "      <td>NaN</td>\n",
       "      <td>NaN</td>\n",
       "      <td>NaN</td>\n",
       "      <td>NaN</td>\n",
       "      <td>NaN</td>\n",
       "      <td>NaN</td>\n",
       "      <td>67-22 Fresh Pond Rd, Queens, 11385</td>\n",
       "      <td>False</td>\n",
       "      <td>False</td>\n",
       "      <td>False</td>\n",
       "    </tr>\n",
       "    <tr>\n",
       "      <th>4</th>\n",
       "      <td>5 Brothers Gourmet Deli</td>\n",
       "      <td>10036</td>\n",
       "      <td>NaN</td>\n",
       "      <td>NaN</td>\n",
       "      <td>NaN</td>\n",
       "      <td>NaN</td>\n",
       "      <td>[fresh homemade beef brisket sandwich, fresh t...</td>\n",
       "      <td>NaN</td>\n",
       "      <td>NaN</td>\n",
       "      <td>NaN</td>\n",
       "      <td>[sandwiches, deli food, american, burgers]</td>\n",
       "      <td>689 10th Ave, New York, 10036</td>\n",
       "      <td>False</td>\n",
       "      <td>False</td>\n",
       "      <td>False</td>\n",
       "    </tr>\n",
       "    <tr>\n",
       "      <th>...</th>\n",
       "      <td>...</td>\n",
       "      <td>...</td>\n",
       "      <td>...</td>\n",
       "      <td>...</td>\n",
       "      <td>...</td>\n",
       "      <td>...</td>\n",
       "      <td>...</td>\n",
       "      <td>...</td>\n",
       "      <td>...</td>\n",
       "      <td>...</td>\n",
       "      <td>...</td>\n",
       "      <td>...</td>\n",
       "      <td>...</td>\n",
       "      <td>...</td>\n",
       "      <td>...</td>\n",
       "    </tr>\n",
       "    <tr>\n",
       "      <th>799</th>\n",
       "      <td>ilili Restaurant</td>\n",
       "      <td>10001</td>\n",
       "      <td>4.5</td>\n",
       "      <td>3.0</td>\n",
       "      <td>NaN</td>\n",
       "      <td>NaN</td>\n",
       "      <td>[lunch prix fixe special, falafel wrap, grille...</td>\n",
       "      <td>NaN</td>\n",
       "      <td>NaN</td>\n",
       "      <td>NaN</td>\n",
       "      <td>[middle eastern, mediterranean, tapas]</td>\n",
       "      <td>236 5th Ave, New York, 10001</td>\n",
       "      <td>False</td>\n",
       "      <td>False</td>\n",
       "      <td>False</td>\n",
       "    </tr>\n",
       "    <tr>\n",
       "      <th>800</th>\n",
       "      <td>taïm mediterranean kitchen</td>\n",
       "      <td>10038</td>\n",
       "      <td>4.3</td>\n",
       "      <td>1.0</td>\n",
       "      <td>NaN</td>\n",
       "      <td>NaN</td>\n",
       "      <td>NaN</td>\n",
       "      <td>NaN</td>\n",
       "      <td>NaN</td>\n",
       "      <td>NaN</td>\n",
       "      <td>NaN</td>\n",
       "      <td>75 Maiden Ln, New York, 10038</td>\n",
       "      <td>False</td>\n",
       "      <td>False</td>\n",
       "      <td>False</td>\n",
       "    </tr>\n",
       "    <tr>\n",
       "      <th>801</th>\n",
       "      <td>არგო</td>\n",
       "      <td>11223</td>\n",
       "      <td>4.6</td>\n",
       "      <td>2.0</td>\n",
       "      <td>NaN</td>\n",
       "      <td>NaN</td>\n",
       "      <td>NaN</td>\n",
       "      <td>NaN</td>\n",
       "      <td>NaN</td>\n",
       "      <td>NaN</td>\n",
       "      <td>NaN</td>\n",
       "      <td>1985 Coney Island Ave, Brooklyn, 11223</td>\n",
       "      <td>False</td>\n",
       "      <td>False</td>\n",
       "      <td>False</td>\n",
       "    </tr>\n",
       "    <tr>\n",
       "      <th>802</th>\n",
       "      <td>უბანი</td>\n",
       "      <td>11209</td>\n",
       "      <td>4.7</td>\n",
       "      <td>2.0</td>\n",
       "      <td>NaN</td>\n",
       "      <td>NaN</td>\n",
       "      <td>NaN</td>\n",
       "      <td>NaN</td>\n",
       "      <td>NaN</td>\n",
       "      <td>NaN</td>\n",
       "      <td>NaN</td>\n",
       "      <td>Georgian Cuisine, 8309 3rd Ave, 11209</td>\n",
       "      <td>False</td>\n",
       "      <td>False</td>\n",
       "      <td>False</td>\n",
       "    </tr>\n",
       "    <tr>\n",
       "      <th>803</th>\n",
       "      <td>ჩიზბოუთი</td>\n",
       "      <td>11249</td>\n",
       "      <td>4.3</td>\n",
       "      <td>2.0</td>\n",
       "      <td>NaN</td>\n",
       "      <td>NaN</td>\n",
       "      <td>NaN</td>\n",
       "      <td>NaN</td>\n",
       "      <td>NaN</td>\n",
       "      <td>NaN</td>\n",
       "      <td>NaN</td>\n",
       "      <td>80 Berry St, Brooklyn, 11249</td>\n",
       "      <td>False</td>\n",
       "      <td>False</td>\n",
       "      <td>False</td>\n",
       "    </tr>\n",
       "  </tbody>\n",
       "</table>\n",
       "<p>792 rows × 15 columns</p>\n",
       "</div>"
      ]
     },
     "execution_count": 2,
     "metadata": {},
     "output_type": "execute_result"
    }
   ],
   "execution_count": 2
  },
  {
   "metadata": {
    "ExecuteTime": {
     "end_time": "2025-02-24T16:43:07.291939Z",
     "start_time": "2025-02-24T16:43:07.285443Z"
    }
   },
   "cell_type": "code",
   "source": [
    "## for the purposes of this section, only rows with items are relevant - since the goal here is (item list -> specific cuisine)\n",
    "full_combo[\"Valid Items\"] = full_combo[\"Items\"].apply(lambda x: isinstance(x, list))\n",
    "full_combo = full_combo[full_combo[\"Valid Items\"]]\n",
    "len(full_combo)"
   ],
   "id": "11904304d845f708",
   "outputs": [
    {
     "data": {
      "text/plain": [
       "519"
      ]
     },
     "execution_count": 3,
     "metadata": {},
     "output_type": "execute_result"
    }
   ],
   "execution_count": 3
  },
  {
   "metadata": {},
   "cell_type": "markdown",
   "source": [
    "#### extracting cuisine (basic) \n",
    "from restaurant name and review comment"
   ],
   "id": "f8c100a617d291bd"
  },
  {
   "metadata": {
    "ExecuteTime": {
     "end_time": "2025-02-24T16:43:08.015383Z",
     "start_time": "2025-02-24T16:43:08.006361Z"
    }
   },
   "cell_type": "code",
   "source": [
    "cuisines = []\n",
    "for line in full_combo[\"Cuisine\"]:\n",
    "    if isinstance(line, list):\n",
    "        for cuisine in line:\n",
    "            if cuisine not in cuisines:\n",
    "                cuisines.append(cuisine.lower())\n",
    "cuisines "
   ],
   "id": "4c74138878426a7a",
   "outputs": [
    {
     "data": {
      "text/plain": [
       "['japanese',\n",
       " 'sushi',\n",
       " 'cafe',\n",
       " 'american',\n",
       " 'diner',\n",
       " 'sandwiches',\n",
       " 'deli food',\n",
       " 'burgers',\n",
       " 'smoothies juices',\n",
       " 'bakery pastries',\n",
       " 'contemporary',\n",
       " 'chinese',\n",
       " 'asian',\n",
       " 'latin american',\n",
       " 'puerto rican',\n",
       " 'pizza',\n",
       " 'fast food',\n",
       " 'latin',\n",
       " 'indian',\n",
       " 'noodles',\n",
       " 'spanish',\n",
       " 'mediterranean',\n",
       " 'tapas',\n",
       " 'teahouses',\n",
       " 'soups',\n",
       " 'localorganic',\n",
       " 'french',\n",
       " 'american new',\n",
       " 'lunch specials',\n",
       " 'healthy',\n",
       " 'thai',\n",
       " 'seafood',\n",
       " 'salads',\n",
       " 'greek',\n",
       " 'soul food',\n",
       " 'southwestern',\n",
       " 'mexican',\n",
       " 'italian',\n",
       " 'wine bar',\n",
       " 'wings',\n",
       " 'chicken',\n",
       " 'pasta',\n",
       " 'other',\n",
       " 'dominican',\n",
       " 'steak',\n",
       " 'bagels',\n",
       " 'pretzels',\n",
       " 'kosher',\n",
       " 'vegetarian',\n",
       " 'middle eastern',\n",
       " 'lebanese',\n",
       " 'moroccan',\n",
       " 'cocktails',\n",
       " 'bar',\n",
       " 'hot dogs',\n",
       " 'bistro',\n",
       " 'european',\n",
       " 'bar food',\n",
       " 'steakhouse',\n",
       " 'barbecue',\n",
       " 'korean',\n",
       " 'turkish',\n",
       " 'alcohol',\n",
       " 'brazilian',\n",
       " 'south american',\n",
       " 'pub',\n",
       " 'gastropub',\n",
       " 'argentinean',\n",
       " 'nepali',\n",
       " 'tibetan',\n",
       " 'coffee tea',\n",
       " 'vegan',\n",
       " 'cajun creole',\n",
       " 'german',\n",
       " 'irish',\n",
       " 'crepes',\n",
       " 'cuban',\n",
       " 'eclectic international',\n",
       " 'pakistani',\n",
       " 'dim sum',\n",
       " 'nuevo latino',\n",
       " 'international',\n",
       " 'breakfast',\n",
       " 'caribbean',\n",
       " 'peruvian',\n",
       " 'jamaican',\n",
       " 'tex mex',\n",
       " 'jewish',\n",
       " 'filipino',\n",
       " 'asian fusion',\n",
       " 'delicatessen',\n",
       " 'ice cream',\n",
       " 'gelato',\n",
       " 'yogurt',\n",
       " 'desserts',\n",
       " 'ices',\n",
       " 'israeli',\n",
       " 'vietnamese',\n",
       " 'eastern european',\n",
       " 'belgian',\n",
       " 'polish',\n",
       " 'street food',\n",
       " 'malaysian',\n",
       " 'russian',\n",
       " 'fish chips',\n",
       " 'african',\n",
       " 'ethiopian',\n",
       " 'deli',\n",
       " 'pitas',\n",
       " 'mixed buffet',\n",
       " 'english',\n",
       " 'malaysia',\n",
       " 'cambodian',\n",
       " 'coffee',\n",
       " 'tea',\n",
       " 'caf']"
      ]
     },
     "execution_count": 4,
     "metadata": {},
     "output_type": "execute_result"
    }
   ],
   "execution_count": 4
  },
  {
   "metadata": {
    "ExecuteTime": {
     "end_time": "2025-02-24T16:43:08.253275Z",
     "start_time": "2025-02-24T16:43:08.248987Z"
    }
   },
   "cell_type": "code",
   "source": [
    "def find_cuisines(name):\n",
    "    cuisines_in_name = []\n",
    "    if isinstance(name, str):\n",
    "        for word in name.lower().split():\n",
    "            if word in cuisines:\n",
    "                cuisines_in_name.append(word.title())\n",
    "    return cuisines_in_name"
   ],
   "id": "3bfadfa471268f57",
   "outputs": [],
   "execution_count": 5
  },
  {
   "metadata": {
    "ExecuteTime": {
     "end_time": "2025-02-24T16:43:08.534112Z",
     "start_time": "2025-02-24T16:43:08.512688Z"
    }
   },
   "cell_type": "code",
   "source": [
    "full_combo[\"Cuisine\"] = full_combo.apply(\n",
    "    lambda row: row[\"Cuisine\"] if isinstance(row[\"Cuisine\"], list) else find_cuisines(row[\"Name\"]), axis=1)\n",
    "full_combo[\"Cuisine\"] = full_combo.apply(\n",
    "    lambda row: row[\"Cuisine\"] if isinstance(row[\"Cuisine\"], list) else find_cuisines(row[\"Review Comment\"]), axis=1)\n",
    "\n",
    "# note: it can be assumed that the name of a restaurant will contain the cuisine name only if it is relevant - i.e., one would expect \"John's Chinese Place\" (serving Chinese cuisine) but not \"John's not Korean Place\" (serving Chinese cuisine). In contrast, such an assumption cannot be made about a review comment - the reviewer may have been under a false impression of the cuisine that should be expected, and this could be mentioned in their review (e.g. \"If this place claimed to be Elvish, these sour sauces would make sense!\") - resulting in some inaccuracies. Since this dataset is a little small and isn't 100% full of the data desired, and as this is, after all, just an exercise with what is essentially dummy data, this use was left in. In production, in real-world cases, a more complex approach would be required to ensure the extraction is accurate.  "
   ],
   "id": "822c2a81cb7f5d10",
   "outputs": [
    {
     "name": "stderr",
     "output_type": "stream",
     "text": [
      "/var/folders/68/kjwj3q012r99v59302lxlcbc0000gn/T/ipykernel_77911/1425906651.py:1: SettingWithCopyWarning: \n",
      "A value is trying to be set on a copy of a slice from a DataFrame.\n",
      "Try using .loc[row_indexer,col_indexer] = value instead\n",
      "\n",
      "See the caveats in the documentation: https://pandas.pydata.org/pandas-docs/stable/user_guide/indexing.html#returning-a-view-versus-a-copy\n",
      "  full_combo[\"Cuisine\"] = full_combo.apply(\n",
      "/var/folders/68/kjwj3q012r99v59302lxlcbc0000gn/T/ipykernel_77911/1425906651.py:3: SettingWithCopyWarning: \n",
      "A value is trying to be set on a copy of a slice from a DataFrame.\n",
      "Try using .loc[row_indexer,col_indexer] = value instead\n",
      "\n",
      "See the caveats in the documentation: https://pandas.pydata.org/pandas-docs/stable/user_guide/indexing.html#returning-a-view-versus-a-copy\n",
      "  full_combo[\"Cuisine\"] = full_combo.apply(\n"
     ]
    }
   ],
   "execution_count": 6
  },
  {
   "metadata": {},
   "cell_type": "markdown",
   "source": "#### cleaning common naming issues ",
   "id": "fc3ba4ddc0e31fa0"
  },
  {
   "metadata": {
    "ExecuteTime": {
     "end_time": "2025-02-24T16:43:09.282219Z",
     "start_time": "2025-02-24T16:43:09.276440Z"
    }
   },
   "cell_type": "code",
   "source": [
    "## in order to clean up the cuisine names, several actions are taken here: :\n",
    "# cleaning \"&\", removing the stopword \"food\", remove meaningless cuisines, merge all the cafe categories\n",
    "# as well as differentiating between american cuisine and south-/latin-american cuisine by treating \"american\" as a stopword in those cases only. \n",
    "menu_freq = {}\n",
    "def clean_cuisine(s):\n",
    "    clean = s.lower().replace(\"&\", \"\").strip() #replace(\" food\", \"\").\n",
    "    # if \"american\" in clean:\n",
    "    #     if clean != \"american\":  \n",
    "    #         clean= \" \".join([i for i in clean.split(\"american\") if len(i) > 0]).strip()\n",
    "    if \"latin\" in clean:\n",
    "        clean = \"latin american\"\n",
    "    if \"american new\" in clean:\n",
    "        clean = \"american\"\n",
    "    not_informaitve = [\"other\", \"lunch specials\", \"mixed buffet\"]\n",
    "    for i in not_informaitve:\n",
    "        if i == clean:\n",
    "            clean = \"\"\n",
    "    cafe_indicators = [\"coffee\", \"tea\", \"cafe\", \"caf\"]\n",
    "    for i in cafe_indicators:\n",
    "        if i in clean:\n",
    "            clean = \"cafe\"\n",
    "    return clean"
   ],
   "id": "e8071c1eeac73809",
   "outputs": [],
   "execution_count": 7
  },
  {
   "metadata": {
    "ExecuteTime": {
     "end_time": "2025-02-24T16:43:09.527123Z",
     "start_time": "2025-02-24T16:43:09.518986Z"
    }
   },
   "cell_type": "code",
   "source": "full_combo[\"Cuisine\"] = full_combo[\"Cuisine\"].apply(lambda l: [clean_cuisine(item) for item in l if clean_cuisine(item) != \"\"] if isinstance(l, list) else l)",
   "id": "6d616de648f1ff64",
   "outputs": [
    {
     "name": "stderr",
     "output_type": "stream",
     "text": [
      "/var/folders/68/kjwj3q012r99v59302lxlcbc0000gn/T/ipykernel_77911/307223599.py:1: SettingWithCopyWarning: \n",
      "A value is trying to be set on a copy of a slice from a DataFrame.\n",
      "Try using .loc[row_indexer,col_indexer] = value instead\n",
      "\n",
      "See the caveats in the documentation: https://pandas.pydata.org/pandas-docs/stable/user_guide/indexing.html#returning-a-view-versus-a-copy\n",
      "  full_combo[\"Cuisine\"] = full_combo[\"Cuisine\"].apply(lambda l: [clean_cuisine(item) for item in l if clean_cuisine(item) != \"\"] if isinstance(l, list) else l)\n"
     ]
    }
   ],
   "execution_count": 8
  },
  {
   "metadata": {},
   "cell_type": "markdown",
   "source": "### Question 1 - Cuisine EDA",
   "id": "ed22db8bee5d976b"
  },
  {
   "metadata": {
    "ExecuteTime": {
     "end_time": "2025-02-24T16:43:10.271358Z",
     "start_time": "2025-02-24T16:43:10.258042Z"
    }
   },
   "cell_type": "code",
   "source": [
    "full_combo[\"Cuisine Type Count\"] = full_combo[\"Cuisine\"].apply(lambda l: len(l) if isinstance(l, list) else 0)\n",
    "full_combo[\"Cuisine\"] = full_combo.apply(lambda row: None if row[\"Cuisine Type Count\"] == 0 else row[\"Cuisine\"], axis=1 )"
   ],
   "id": "68592851c5d0a9b6",
   "outputs": [
    {
     "name": "stderr",
     "output_type": "stream",
     "text": [
      "/var/folders/68/kjwj3q012r99v59302lxlcbc0000gn/T/ipykernel_77911/1474961555.py:1: SettingWithCopyWarning: \n",
      "A value is trying to be set on a copy of a slice from a DataFrame.\n",
      "Try using .loc[row_indexer,col_indexer] = value instead\n",
      "\n",
      "See the caveats in the documentation: https://pandas.pydata.org/pandas-docs/stable/user_guide/indexing.html#returning-a-view-versus-a-copy\n",
      "  full_combo[\"Cuisine Type Count\"] = full_combo[\"Cuisine\"].apply(lambda l: len(l) if isinstance(l, list) else 0)\n",
      "/var/folders/68/kjwj3q012r99v59302lxlcbc0000gn/T/ipykernel_77911/1474961555.py:2: SettingWithCopyWarning: \n",
      "A value is trying to be set on a copy of a slice from a DataFrame.\n",
      "Try using .loc[row_indexer,col_indexer] = value instead\n",
      "\n",
      "See the caveats in the documentation: https://pandas.pydata.org/pandas-docs/stable/user_guide/indexing.html#returning-a-view-versus-a-copy\n",
      "  full_combo[\"Cuisine\"] = full_combo.apply(lambda row: None if row[\"Cuisine Type Count\"] == 0 else row[\"Cuisine\"], axis=1 )\n"
     ]
    }
   ],
   "execution_count": 9
  },
  {
   "metadata": {
    "ExecuteTime": {
     "end_time": "2025-02-24T16:43:10.515567Z",
     "start_time": "2025-02-24T16:43:10.500726Z"
    }
   },
   "cell_type": "code",
   "source": [
    "## cuisine name frequencies \n",
    "for cuisine_list in full_combo[\"Cuisine\"]: \n",
    "    if isinstance(cuisine_list, list):\n",
    "        for cuisine in cuisine_list:\n",
    "            if cuisine in menu_freq:\n",
    "                menu_freq[cuisine] += 1\n",
    "            else:\n",
    "                menu_freq[cuisine] = 1\n",
    "cuisine_freq = pd.DataFrame.from_dict(menu_freq, orient='index')\n",
    "cuisine_freq.reset_index(inplace=True)\n",
    "cuisine_freq.columns = [\"Cuisine\", \"Frequency\"]\n",
    "cuisine_freq.sort_values([\"Frequency\"], ascending = False, inplace=True)\n",
    "cuisine_freq.reset_index(drop=True, inplace=True)\n",
    "print(\"Cuisine Name Frequencies\")\n",
    "cuisine_freq"
   ],
   "id": "d194a5984217ab1c",
   "outputs": [
    {
     "name": "stdout",
     "output_type": "stream",
     "text": [
      "Cuisine Name Frequencies\n"
     ]
    },
    {
     "data": {
      "text/plain": [
       "        Cuisine  Frequency\n",
       "0      american        152\n",
       "1       italian         95\n",
       "2         pizza         82\n",
       "3          cafe         67\n",
       "4    sandwiches         66\n",
       "..          ...        ...\n",
       "98    brazilian          1\n",
       "99     barbecue          1\n",
       "100    lebanese          1\n",
       "101    pretzels          1\n",
       "102   cambodian          1\n",
       "\n",
       "[103 rows x 2 columns]"
      ],
      "text/html": [
       "<div>\n",
       "<style scoped>\n",
       "    .dataframe tbody tr th:only-of-type {\n",
       "        vertical-align: middle;\n",
       "    }\n",
       "\n",
       "    .dataframe tbody tr th {\n",
       "        vertical-align: top;\n",
       "    }\n",
       "\n",
       "    .dataframe thead th {\n",
       "        text-align: right;\n",
       "    }\n",
       "</style>\n",
       "<table border=\"1\" class=\"dataframe\">\n",
       "  <thead>\n",
       "    <tr style=\"text-align: right;\">\n",
       "      <th></th>\n",
       "      <th>Cuisine</th>\n",
       "      <th>Frequency</th>\n",
       "    </tr>\n",
       "  </thead>\n",
       "  <tbody>\n",
       "    <tr>\n",
       "      <th>0</th>\n",
       "      <td>american</td>\n",
       "      <td>152</td>\n",
       "    </tr>\n",
       "    <tr>\n",
       "      <th>1</th>\n",
       "      <td>italian</td>\n",
       "      <td>95</td>\n",
       "    </tr>\n",
       "    <tr>\n",
       "      <th>2</th>\n",
       "      <td>pizza</td>\n",
       "      <td>82</td>\n",
       "    </tr>\n",
       "    <tr>\n",
       "      <th>3</th>\n",
       "      <td>cafe</td>\n",
       "      <td>67</td>\n",
       "    </tr>\n",
       "    <tr>\n",
       "      <th>4</th>\n",
       "      <td>sandwiches</td>\n",
       "      <td>66</td>\n",
       "    </tr>\n",
       "    <tr>\n",
       "      <th>...</th>\n",
       "      <td>...</td>\n",
       "      <td>...</td>\n",
       "    </tr>\n",
       "    <tr>\n",
       "      <th>98</th>\n",
       "      <td>brazilian</td>\n",
       "      <td>1</td>\n",
       "    </tr>\n",
       "    <tr>\n",
       "      <th>99</th>\n",
       "      <td>barbecue</td>\n",
       "      <td>1</td>\n",
       "    </tr>\n",
       "    <tr>\n",
       "      <th>100</th>\n",
       "      <td>lebanese</td>\n",
       "      <td>1</td>\n",
       "    </tr>\n",
       "    <tr>\n",
       "      <th>101</th>\n",
       "      <td>pretzels</td>\n",
       "      <td>1</td>\n",
       "    </tr>\n",
       "    <tr>\n",
       "      <th>102</th>\n",
       "      <td>cambodian</td>\n",
       "      <td>1</td>\n",
       "    </tr>\n",
       "  </tbody>\n",
       "</table>\n",
       "<p>103 rows × 2 columns</p>\n",
       "</div>"
      ]
     },
     "execution_count": 10,
     "metadata": {},
     "output_type": "execute_result"
    }
   ],
   "execution_count": 10
  },
  {
   "metadata": {
    "ExecuteTime": {
     "end_time": "2025-02-24T16:43:11.274973Z",
     "start_time": "2025-02-24T16:43:10.999979Z"
    }
   },
   "cell_type": "code",
   "source": [
    "# cuisine list lengths \n",
    "plt.figure(figsize=(6,5))\n",
    "cuisine_count = full_combo[\"Cuisine Type Count\"].value_counts()\n",
    "sns.barplot(x = cuisine_count.index, y = cuisine_count)\n",
    "plt.title(\"Cuisine List Length Frequencies\")\n",
    "plt.show"
   ],
   "id": "7cf87b7c239d5f90",
   "outputs": [
    {
     "data": {
      "text/plain": [
       "<function matplotlib.pyplot.show(close=None, block=None)>"
      ]
     },
     "execution_count": 11,
     "metadata": {},
     "output_type": "execute_result"
    },
    {
     "data": {
      "text/plain": [
       "<Figure size 600x500 with 1 Axes>"
      ],
      "image/png": "[encoded data removed]"
     },
     "metadata": {},
     "output_type": "display_data"
    }
   ],
   "execution_count": 11
  },
  {
   "metadata": {},
   "cell_type": "markdown",
   "source": [
    "## Question 2 - Finding the Cuisine Category\n",
    "As the lists are an accumulation of several sources: restaurant name, Trip Advisor, Menu Data, and Inspection Data, they can be somewhat confusing to make a specific recommendation. \n",
    "\n",
    "For example, \"3 Guys Restaurant\" is described as [American, Cafe, Japanese, Diner] - while the menu items are similar to: cereal, spinach omelette, belgian waffle nutella. One of the cuisine descriptors is not appropriate - namely, \"Japanese\".  \n",
    "\n",
    "The minimization will be following the assumption that the rarest cuisine is the most relevant one to the description - for example, a Mexican-Korean fusion restaurant will show up as [\"Mexican\", \"Korean\"] will be considered \"Korean\" if count(\"Mexican\") > count(\"Korean\"). Many examples from the dataset include combinations of cuisnies where this designation will be more accurate - such as [\"American\", \"Burgers\"], [\"Burgers, \"Sandwiches\"], [\"Deli Foods\", \"Eastern European\"] - where either designation would be alright. \n",
    "\n",
    "The ML process here will work as follows: \n",
    "1. Create a guideline for cuisines based on single\n"
   ],
   "id": "ea66de9fc644ebea"
  },
  {
   "metadata": {},
   "cell_type": "markdown",
   "source": [
    "### Training based on single-item lists\n",
    "\n",
    "The task in this section is to create a \"source of truth\" of sorts, covering the cuisines that can be categorized with more certainty.  "
   ],
   "id": "40c6d2c0fd1f35dd"
  },
  {
   "metadata": {
    "ExecuteTime": {
     "end_time": "2025-02-24T16:43:12.754307Z",
     "start_time": "2025-02-24T16:43:12.751229Z"
    }
   },
   "cell_type": "code",
   "source": "inclusion_threshold = 3",
   "id": "a92a50d9320fe184",
   "outputs": [],
   "execution_count": 12
  },
  {
   "metadata": {
    "ExecuteTime": {
     "end_time": "2025-02-24T16:43:13.372861Z",
     "start_time": "2025-02-24T16:43:12.962479Z"
    }
   },
   "cell_type": "code",
   "source": [
    "single_cuisine_counts = full_combo[\"Cuisine\"][full_combo[\"Cuisine Type Count\"] == 1].value_counts()\n",
    "visual = pd.DataFrame(single_cuisine_counts)\n",
    "visual.reset_index(inplace=True)\n",
    "visual[\"Cuisine\"] = visual[\"Cuisine\"].apply(lambda l: l[0])\n",
    "plt.figure(figsize=(6,6))\n",
    "sns.barplot(x = visual[\"count\"], y = visual[\"Cuisine\"], hue = visual[\"count\"], palette=\"crest\")\n",
    "plt.title(f\"Cuisines Appearing Alone \\n (only >= {inclusion_threshold} will be included in training data)\")\n",
    "\n",
    "plt.show()"
   ],
   "id": "256332e4693be896",
   "outputs": [
    {
     "data": {
      "text/plain": [
       "<Figure size 600x600 with 1 Axes>"
      ],
      "image/png": "[encoded data removed]"
     },
     "metadata": {},
     "output_type": "display_data"
    }
   ],
   "execution_count": 13
  },
  {
   "metadata": {
    "ExecuteTime": {
     "end_time": "2025-02-24T16:43:13.398706Z",
     "start_time": "2025-02-24T16:43:13.395110Z"
    }
   },
   "cell_type": "code",
   "source": [
    "single_cuisines = list(single_cuisine_counts[single_cuisine_counts >= inclusion_threshold].index)\n",
    "# single_cuisines"
   ],
   "id": "e1cd971de165cc08",
   "outputs": [],
   "execution_count": 14
  },
  {
   "metadata": {
    "ExecuteTime": {
     "end_time": "2025-02-24T16:43:13.611749Z",
     "start_time": "2025-02-24T16:43:13.605278Z"
    }
   },
   "cell_type": "code",
   "source": [
    "full_combo[\"Single Cuisine\"] = full_combo[\"Cuisine\"].apply(lambda x: x in single_cuisines)\n",
    "td_single_cuisine = full_combo[[\"Name\", \"Items\", \"Cuisine\"]][full_combo[\"Single Cuisine\"]]\n",
    "print(f\"there are {len(td_single_cuisine)} items in this data set\")"
   ],
   "id": "7fb835de918db0e1",
   "outputs": [
    {
     "name": "stdout",
     "output_type": "stream",
     "text": [
      "there are 84 items in this data set\n"
     ]
    },
    {
     "name": "stderr",
     "output_type": "stream",
     "text": [
      "/var/folders/68/kjwj3q012r99v59302lxlcbc0000gn/T/ipykernel_77911/3807290280.py:1: SettingWithCopyWarning: \n",
      "A value is trying to be set on a copy of a slice from a DataFrame.\n",
      "Try using .loc[row_indexer,col_indexer] = value instead\n",
      "\n",
      "See the caveats in the documentation: https://pandas.pydata.org/pandas-docs/stable/user_guide/indexing.html#returning-a-view-versus-a-copy\n",
      "  full_combo[\"Single Cuisine\"] = full_combo[\"Cuisine\"].apply(lambda x: x in single_cuisines)\n"
     ]
    }
   ],
   "execution_count": 15
  },
  {
   "metadata": {
    "ExecuteTime": {
     "end_time": "2025-02-24T16:43:13.872919Z",
     "start_time": "2025-02-24T16:43:13.868745Z"
    }
   },
   "cell_type": "code",
   "source": [
    "## using this data alone, how many of the menus will be covered? in other words, how many of the restaurants will have at least one label apply to them? \n",
    "def single_cuisine_coverage(cuisine_list): \n",
    "    coverage = False\n",
    "    for i in single_cuisines:\n",
    "        if i[0] in cuisine_list:\n",
    "            coverage = True\n",
    "    return coverage"
   ],
   "id": "5c3bc0ee20976c16",
   "outputs": [],
   "execution_count": 16
  },
  {
   "metadata": {
    "ExecuteTime": {
     "end_time": "2025-02-24T16:43:14.295991Z",
     "start_time": "2025-02-24T16:43:14.286221Z"
    }
   },
   "cell_type": "code",
   "source": [
    "full_combo[\"Training Coverage\"] = full_combo[\"Cuisine\"].apply(single_cuisine_coverage)\n",
    "full_combo[\"Training Coverage\"].value_counts(normalize=True)"
   ],
   "id": "9e3f33843a31a26c",
   "outputs": [
    {
     "name": "stderr",
     "output_type": "stream",
     "text": [
      "/var/folders/68/kjwj3q012r99v59302lxlcbc0000gn/T/ipykernel_77911/2653992643.py:1: SettingWithCopyWarning: \n",
      "A value is trying to be set on a copy of a slice from a DataFrame.\n",
      "Try using .loc[row_indexer,col_indexer] = value instead\n",
      "\n",
      "See the caveats in the documentation: https://pandas.pydata.org/pandas-docs/stable/user_guide/indexing.html#returning-a-view-versus-a-copy\n",
      "  full_combo[\"Training Coverage\"] = full_combo[\"Cuisine\"].apply(single_cuisine_coverage)\n"
     ]
    },
    {
     "data": {
      "text/plain": [
       "Training Coverage\n",
       "True     0.728324\n",
       "False    0.271676\n",
       "Name: proportion, dtype: float64"
      ]
     },
     "execution_count": 17,
     "metadata": {},
     "output_type": "execute_result"
    }
   ],
   "execution_count": 17
  },
  {
   "metadata": {},
   "cell_type": "markdown",
   "source": "In a previous iteration, setting the threshold point at 3 examples was too low - while the coverage would have been higher (about three quarters of all the rows compared to 62% when the threshold is set at 5) - the model could not capture the similarity/difference between restaurants in cuisines with only 3 examples, and ended up returning some generic keywords.   ",
   "id": "288fc6c46bacd912"
  },
  {
   "metadata": {
    "ExecuteTime": {
     "end_time": "2025-02-24T16:43:15.687636Z",
     "start_time": "2025-02-24T16:43:15.125311Z"
    }
   },
   "cell_type": "code",
   "source": [
    "model = Word2Vec(sentences = td_single_cuisine[\"Items\"], vector_size=500)\n",
    "model.train(td_single_cuisine[\"Items\"], total_examples=len(td_single_cuisine[\"Items\"]), epochs=100)"
   ],
   "id": "29bfb3b5986bced4",
   "outputs": [
    {
     "data": {
      "text/plain": [
       "(254782, 1557600)"
      ]
     },
     "execution_count": 18,
     "metadata": {},
     "output_type": "execute_result"
    }
   ],
   "execution_count": 18
  },
  {
   "metadata": {},
   "cell_type": "markdown",
   "source": "sanity check - some cosine similarity tests",
   "id": "e7d33eed9b09e9c1"
  },
  {
   "metadata": {
    "ExecuteTime": {
     "end_time": "2025-02-24T16:43:16.453658Z",
     "start_time": "2025-02-24T16:43:16.448792Z"
    }
   },
   "cell_type": "code",
   "source": [
    "similarities = [(\"water\", \"soda\"), (\"water\", \"juice\"), (\"egg roll\", \"burrata\")]\n",
    "for item in similarities:\n",
    "    print(f\"the similarity of {item} is {model.wv.similarity(item[0], item[1])}\")"
   ],
   "id": "980ef093c7cb206f",
   "outputs": [
    {
     "name": "stdout",
     "output_type": "stream",
     "text": [
      "the similarity of ('water', 'soda') is 0.9062141180038452\n",
      "the similarity of ('water', 'juice') is 0.8532864451408386\n",
      "the similarity of ('egg roll', 'burrata') is 0.36397308111190796\n"
     ]
    }
   ],
   "execution_count": 19
  },
  {
   "metadata": {
    "ExecuteTime": {
     "end_time": "2025-02-24T16:43:17.580851Z",
     "start_time": "2025-02-24T16:43:16.969844Z"
    }
   },
   "cell_type": "code",
   "source": [
    "cuisine_terms = {}\n",
    "for cuisine in list(td_single_cuisine[\"Cuisine\"].apply(lambda l: l[0])):\n",
    "    cuisine_terms[cuisine] = []\n",
    "    for row in td_single_cuisine.iterrows():\n",
    "        if row[1][2] == [cuisine]:\n",
    "            for i in row[1][1]:\n",
    "                if model.wv.has_index_for(i):\n",
    "                    if i not in cuisine_terms[cuisine]:\n",
    "                        cuisine_terms[cuisine].append(i)"
   ],
   "id": "9629a2e526a75ec",
   "outputs": [
    {
     "name": "stderr",
     "output_type": "stream",
     "text": [
      "/var/folders/68/kjwj3q012r99v59302lxlcbc0000gn/T/ipykernel_77911/2787990432.py:5: FutureWarning: Series.__getitem__ treating keys as positions is deprecated. In a future version, integer keys will always be treated as labels (consistent with DataFrame behavior). To access a value by position, use `ser.iloc[pos]`\n",
      "  if row[1][2] == [cuisine]:\n",
      "/var/folders/68/kjwj3q012r99v59302lxlcbc0000gn/T/ipykernel_77911/2787990432.py:6: FutureWarning: Series.__getitem__ treating keys as positions is deprecated. In a future version, integer keys will always be treated as labels (consistent with DataFrame behavior). To access a value by position, use `ser.iloc[pos]`\n",
      "  for i in row[1][1]:\n"
     ]
    }
   ],
   "execution_count": 20
  },
  {
   "metadata": {
    "ExecuteTime": {
     "end_time": "2025-02-24T16:43:18.682529Z",
     "start_time": "2025-02-24T16:43:18.585413Z"
    }
   },
   "cell_type": "code",
   "source": [
    "most_similar_items = {}\n",
    "counter = 0\n",
    "for cuisine in cuisine_terms:\n",
    "    cuisine_size = int(visual[\"count\"].loc[visual[\"Cuisine\"] == cuisine])\n",
    "    for term in cuisine_terms[cuisine]:\n",
    "        most_similar_items[counter] = [cuisine, cuisine_size, term, model.wv.most_similar(term)[0][0]]\n",
    "        counter += 1"
   ],
   "id": "29c91dd8c5a3dd24",
   "outputs": [
    {
     "name": "stderr",
     "output_type": "stream",
     "text": [
      "/var/folders/68/kjwj3q012r99v59302lxlcbc0000gn/T/ipykernel_77911/3192081654.py:4: FutureWarning: Calling int on a single element Series is deprecated and will raise a TypeError in the future. Use int(ser.iloc[0]) instead\n",
      "  cuisine_size = int(visual[\"count\"].loc[visual[\"Cuisine\"] == cuisine])\n"
     ]
    }
   ],
   "execution_count": 21
  },
  {
   "metadata": {
    "ExecuteTime": {
     "end_time": "2025-02-24T16:45:04.168963Z",
     "start_time": "2025-02-24T16:45:04.162170Z"
    }
   },
   "cell_type": "code",
   "source": [
    "most_similar_items_df = pd.DataFrame.from_dict(most_similar_items, orient='index')\n",
    "most_similar_items_df.columns = [\"Cuisine\", \"Cuisine Size\", \"Item\", \"Most Similar Item\"]\n",
    "most_similar_items_df_5 = most_similar_items_df.loc[most_similar_items_df[\"Cuisine Size\"] >= 5]\n",
    "most_similar_items_df_3_5 = most_similar_items_df.loc[most_similar_items_df[\"Cuisine Size\"] < 5]"
   ],
   "id": "b347e754f8372e49",
   "outputs": [],
   "execution_count": 25
  },
  {
   "metadata": {
    "ExecuteTime": {
     "end_time": "2025-02-24T16:45:25.186025Z",
     "start_time": "2025-02-24T16:45:25.175572Z"
    }
   },
   "cell_type": "code",
   "source": "most_similar_items_df_3_5",
   "id": "a1876d8ffc5cf6b7",
   "outputs": [
    {
     "data": {
      "text/plain": [
       "     Cuisine  Cuisine Size                      Item  \\\n",
       "0     indian             4               canned soda   \n",
       "1     indian             4                      rice   \n",
       "2     indian             4          mixed vegetables   \n",
       "3     indian             4            vegetable soup   \n",
       "4     indian             4              garden salad   \n",
       "..       ...           ...                       ...   \n",
       "290  burgers             4        egg salad sandwich   \n",
       "291  burgers             4  grilled chicken sandwich   \n",
       "292  burgers             4  tuna fish salad sandwich   \n",
       "293  burgers             4              cheese fries   \n",
       "294  burgers             4           chicken tenders   \n",
       "\n",
       "                     Most Similar Item  \n",
       "0                        bottled water  \n",
       "1                              avocado  \n",
       "2                         fried banana  \n",
       "3                   house special soup  \n",
       "4    caesar salad with grilled chicken  \n",
       "..                                 ...  \n",
       "290             chicken salad sandwich  \n",
       "291                chicken caesar wrap  \n",
       "292            grilled cheese sandwich  \n",
       "293                  fresh fruit salad  \n",
       "294                      bowl of chili  \n",
       "\n",
       "[226 rows x 4 columns]"
      ],
      "text/html": [
       "<div>\n",
       "<style scoped>\n",
       "    .dataframe tbody tr th:only-of-type {\n",
       "        vertical-align: middle;\n",
       "    }\n",
       "\n",
       "    .dataframe tbody tr th {\n",
       "        vertical-align: top;\n",
       "    }\n",
       "\n",
       "    .dataframe thead th {\n",
       "        text-align: right;\n",
       "    }\n",
       "</style>\n",
       "<table border=\"1\" class=\"dataframe\">\n",
       "  <thead>\n",
       "    <tr style=\"text-align: right;\">\n",
       "      <th></th>\n",
       "      <th>Cuisine</th>\n",
       "      <th>Cuisine Size</th>\n",
       "      <th>Item</th>\n",
       "      <th>Most Similar Item</th>\n",
       "    </tr>\n",
       "  </thead>\n",
       "  <tbody>\n",
       "    <tr>\n",
       "      <th>0</th>\n",
       "      <td>indian</td>\n",
       "      <td>4</td>\n",
       "      <td>canned soda</td>\n",
       "      <td>bottled water</td>\n",
       "    </tr>\n",
       "    <tr>\n",
       "      <th>1</th>\n",
       "      <td>indian</td>\n",
       "      <td>4</td>\n",
       "      <td>rice</td>\n",
       "      <td>avocado</td>\n",
       "    </tr>\n",
       "    <tr>\n",
       "      <th>2</th>\n",
       "      <td>indian</td>\n",
       "      <td>4</td>\n",
       "      <td>mixed vegetables</td>\n",
       "      <td>fried banana</td>\n",
       "    </tr>\n",
       "    <tr>\n",
       "      <th>3</th>\n",
       "      <td>indian</td>\n",
       "      <td>4</td>\n",
       "      <td>vegetable soup</td>\n",
       "      <td>house special soup</td>\n",
       "    </tr>\n",
       "    <tr>\n",
       "      <th>4</th>\n",
       "      <td>indian</td>\n",
       "      <td>4</td>\n",
       "      <td>garden salad</td>\n",
       "      <td>caesar salad with grilled chicken</td>\n",
       "    </tr>\n",
       "    <tr>\n",
       "      <th>...</th>\n",
       "      <td>...</td>\n",
       "      <td>...</td>\n",
       "      <td>...</td>\n",
       "      <td>...</td>\n",
       "    </tr>\n",
       "    <tr>\n",
       "      <th>290</th>\n",
       "      <td>burgers</td>\n",
       "      <td>4</td>\n",
       "      <td>egg salad sandwich</td>\n",
       "      <td>chicken salad sandwich</td>\n",
       "    </tr>\n",
       "    <tr>\n",
       "      <th>291</th>\n",
       "      <td>burgers</td>\n",
       "      <td>4</td>\n",
       "      <td>grilled chicken sandwich</td>\n",
       "      <td>chicken caesar wrap</td>\n",
       "    </tr>\n",
       "    <tr>\n",
       "      <th>292</th>\n",
       "      <td>burgers</td>\n",
       "      <td>4</td>\n",
       "      <td>tuna fish salad sandwich</td>\n",
       "      <td>grilled cheese sandwich</td>\n",
       "    </tr>\n",
       "    <tr>\n",
       "      <th>293</th>\n",
       "      <td>burgers</td>\n",
       "      <td>4</td>\n",
       "      <td>cheese fries</td>\n",
       "      <td>fresh fruit salad</td>\n",
       "    </tr>\n",
       "    <tr>\n",
       "      <th>294</th>\n",
       "      <td>burgers</td>\n",
       "      <td>4</td>\n",
       "      <td>chicken tenders</td>\n",
       "      <td>bowl of chili</td>\n",
       "    </tr>\n",
       "  </tbody>\n",
       "</table>\n",
       "<p>226 rows × 4 columns</p>\n",
       "</div>"
      ]
     },
     "execution_count": 27,
     "metadata": {},
     "output_type": "execute_result"
    }
   ],
   "execution_count": 27
  },
  {
   "metadata": {},
   "cell_type": "code",
   "source": "model.wv.most_similar(\"guacamole\")[0][0]",
   "id": "97bf88c2dbda3782",
   "outputs": [],
   "execution_count": null
  },
  {
   "metadata": {},
   "cell_type": "code",
   "source": "model.wv.most_similar(\"milk shake\")",
   "id": "ed98cd798b579c89",
   "outputs": [],
   "execution_count": null
  },
  {
   "metadata": {},
   "cell_type": "code",
   "source": [
    "egg_roll_similar = pd.DataFrame(model.wv.most_similar(\"egg roll\"))\n",
    "egg_roll_similar.columns = [\"item\", \"similarity score\"]\n",
    "burrata_similar = pd.DataFrame(model.wv.most_similar(\"burrata\"))\n",
    "burrata_similar.columns = [\"item\", \"similarity score\"]\n",
    "cheese_pizza_similar = pd.DataFrame(model.wv.most_similar(\"cheese pizza\"))\n",
    "cheese_pizza_similar.columns = [\"item\", \"similarity score\"]"
   ],
   "id": "29d4c4bd8ceb81ae",
   "outputs": [],
   "execution_count": null
  },
  {
   "metadata": {},
   "cell_type": "code",
   "source": [
    "plt.figure(figsize=(18,6))\n",
    "plt.subplot(1, 3, 1)\n",
    "sns.barplot(x = egg_roll_similar[\"similarity score\"], y = egg_roll_similar[\"item\"], palette=\"crest\", orient=\"h\", hue=egg_roll_similar[\"item\"], legend=False)\n",
    "plt.title(\"Menu Items Similar to 'egg roll'\")\n",
    "plt.xlim(0.5, 1.0)\n",
    "plt.subplot(1, 3, 2)\n",
    "sns.barplot(x = burrata_similar[\"similarity score\"], y = burrata_similar[\"item\"], palette=\"flare\", orient=\"h\", hue=burrata_similar[\"item\"], legend=False)\n",
    "plt.title(\"Menu Items Similar to 'burrata'\")\n",
    "plt.xlim(0.5, 1.0)\n",
    "plt.subplot(1, 3, 3)\n",
    "sns.barplot(x = cheese_pizza_similar[\"similarity score\"], y = cheese_pizza_similar[\"item\"], palette=\"cool\", orient=\"h\", hue = cheese_pizza_similar[\"item\"], legend=False)\n",
    "plt.title(\"Menu Items Similar to 'cheese pizza'\")\n",
    "plt.xlim(0.5, 1.0)\n",
    "plt.subplots_adjust(wspace = 0.7)\n",
    "plt.show()"
   ],
   "id": "20cb7f4e5c98a0b7",
   "outputs": [],
   "execution_count": null
  },
  {
   "metadata": {},
   "cell_type": "code",
   "source": "",
   "id": "576fca12d8f4cc4b",
   "outputs": [],
   "execution_count": null
  },
  {
   "metadata": {},
   "cell_type": "code",
   "source": "td_single_cuisine",
   "id": "e2308119f9caecca",
   "outputs": [],
   "execution_count": null
  },
  {
   "metadata": {},
   "cell_type": "code",
   "source": [
    "## these categories are noisy; some items will have next to no examples. there needs to be some fine-tuning of the categories. since there are a few hundred cuisine lists with a total of 82 individual cuisines, it seems that running idxmax on a tf-idf matrix should be the best method to determine relevance; tf-idf is sensitive to both raw item frequency and to item specifcity, so it should produce better results than the raw frequency solution.\n",
    "## It should be noted that in a real-life business scenario, a combination of a computational solution and some manual review should be appropriate - making up for potential \"blind spots\" in the data (such as combining \"Russian\", \"Polish\" and \"Eastern European\" into a single category). This would be appropriate in a case when the accuracy of the categories affects the business goals - which is (fortunately) not the case for this exercise.\n",
    "## fitting tf-idf with unigrams and bigrams was tested, but bigrams were deemed unhelpful for this task \n",
    "full_combo[\"Cuisine - String\"] = full_combo[\"Cuisine\"].apply(lambda x: \" \".join([clean_cuisine(i) for i in x]) if isinstance(x, list) else x)\n",
    "vectorizer = TfidfVectorizer(ngram_range=(1, 1))\n",
    "cuisine_tfidf_matrix = vectorizer.fit_transform(full_combo[\"Cuisine - String\"])\n",
    "cuisine_tfidf = pd.DataFrame(cuisine_tfidf_matrix.toarray(), columns=vectorizer.get_feature_names_out())"
   ],
   "id": "e666a0cc9d56a201",
   "outputs": [],
   "execution_count": null
  },
  {
   "metadata": {},
   "cell_type": "code",
   "source": [
    "cuisine_totals = cuisine_tfidf.sum(axis=0).sort_values(ascending=False)\n",
    "top_15_freq = cuisine_freq.head(15)\n",
    "top_15_tfidf = cuisine_totals.head(15)\n",
    "\n",
    "plt.figure(figsize=(12, 6))\n",
    "plt.suptitle(\"Top 15 Restaurants - \", fontsize=14, fontweight='bold')\n",
    "plt.subplot(1, 2, 1)\n",
    "sns.barplot(x=top_15_freq[\"Frequency\"],  y=top_15_freq[\"Cuisine\"], hue=top_15_freq[\"Cuisine\"], palette='deep', legend=False)\n",
    "plt.ylabel('Cuisines')\n",
    "plt.title('Top 15 Cuisines - Frequency')\n",
    "plt.subplot(1, 2, 2)\n",
    "sns.barplot(x=top_15_tfidf.values,  y=top_15_tfidf.index, hue=top_15_tfidf.index,  legend=False, palette='deep')\n",
    "plt.ylabel('Cuisines')\n",
    "plt.title('Top 15 Cuisines - TF-IDF')\n",
    "plt.show()\n",
    "## the difference in ranking shows that TF-IDF performs better than just frequency: \"sandwiches\" and \"american\" are less prominent, while \"chinese\" is ranked more highly. In simple, actionable terms - the list on the right would be a preferable priority of choosing cuisines when compared to the list on the left. For example, [\"diner\", \"sandwiches\", \"burgers\"] will be consolidated into \"burgers\" if the lowest frequency is used alone; it will be consolidated as \"diner\" if highest TF-IDF score is used. Since there is no way to definitively say that the cuisine name chosen is the most accurate one for the specific restaurant without a human being reviewing the menu, this will do. "
   ],
   "id": "a0d6a09a7260e4b6",
   "outputs": [],
   "execution_count": null
  },
  {
   "metadata": {},
   "cell_type": "code",
   "source": "menu_rest_data[\"Cuisine - TF-IDF\"] = cuisine_tfidf.idxmax(axis=1)",
   "id": "301b897e9cacec65",
   "outputs": [],
   "execution_count": null
  },
  {
   "metadata": {},
   "cell_type": "code",
   "source": [
    "def find_cuisine_from_cuisine_list(cuisine_list):\n",
    "    if isinstance(cuisine_list, list):\n",
    "        clean_list = [clean_cuisine(cuisine) for cuisine in cuisine_list]\n",
    "        best_match = \"\"\n",
    "        for cuisine in cuisine_freq[\"Cuisine\"]:\n",
    "            if cuisine in clean_list:\n",
    "                best_match = cuisine\n",
    "                break\n",
    "        return best_match\n",
    "menu_rest_data[\"Cuisine - Least Frequent\"] = menu_rest_data[\"Cuisine\"].apply(find_cuisine_from_cuisine_list)"
   ],
   "id": "c504cd00dacc482d",
   "outputs": [],
   "execution_count": null
  },
  {
   "metadata": {},
   "cell_type": "code",
   "source": "menu_rest_data[[\"Cuisine\", \"Cuisine - Least Frequent\", \"Cuisine - TF-IDF\"]]",
   "id": "d182fd0e7dac850a",
   "outputs": [],
   "execution_count": null
  }
 ],
 "metadata": {
  "kernelspec": {
   "display_name": "Python 3",
   "language": "python",
   "name": "python3"
  },
  "language_info": {
   "codemirror_mode": {
    "name": "ipython",
    "version": 2
   },
   "file_extension": ".py",
   "mimetype": "text/x-python",
   "name": "python",
   "nbconvert_exporter": "python",
   "pygments_lexer": "ipython2",
   "version": "2.7.6"
  }
 },
 "nbformat": 4,
 "nbformat_minor": 5
}
